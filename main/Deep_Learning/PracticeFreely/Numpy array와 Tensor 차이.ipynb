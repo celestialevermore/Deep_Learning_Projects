{
 "cells": [
  {
   "cell_type": "markdown",
   "metadata": {},
   "source": []
  },
  {
   "cell_type": "markdown",
   "metadata": {},
   "source": [
    "#### Array와 Tensor는 논리적으로 같은 의미\n",
    "\n",
    "    - Scaler : 0D / Vector : 1D / Matrix : 2D Tensor : 3D\n",
    "\n",
    "    "
   ]
  },
  {
   "cell_type": "markdown",
   "metadata": {},
   "source": [
    "- 일반적으로 Numpy Array는 GPU를 지원하지 않는다. SIMD가 CPU에서 구현이 되어있음."
   ]
  },
  {
   "cell_type": "markdown",
   "metadata": {},
   "source": [
    "- 반면 Tensor는 CPU,GPU를 모두 지원한다. (Tensorflow,Keras, Pytorch, MXNet)\n",
    "    - Deep Learning 학습은 CPU SIMD 기반의 Numpy로는 감당할 수 없을 정도의 매우 많은 연산이 필요.\n",
    "    - Deep Learning 연산을 감당하기 위해 GPU가 꼭 필요.\n",
    "    - GPU를 활용한 Tensor 연산 수행(CPU역시 가능)\n",
    "\n",
    "\n",
    "    'Tensor'란 GPU가 호환되는 Array라고 할 수 있다.\n",
    "    \n",
    "    'Tensor'에서 Numpy Array로의 호환은 어려울 수 있다. \n",
    "\n",
    "    'Numpy Array'를 'Tensor'로 옮길때 하나의 N.A를 Tensor로 바꿔 GPU로 보내게 된다.\n"
   ]
  },
  {
   "cell_type": "markdown",
   "metadata": {},
   "source": [
    "- Tensor는 배열 처리를 위해 Numpy Array와 유사한 인터페이스를 가지고는 있음.\n",
    "    -   선형대수 연산을 위해.\n",
    "\n",
    "- 하지만 Numpy Array는 보다 범용적인 영역(ex. 이미지 처리, 자연과학/공학 등)에서, Tensor는 보다 Deep Learning 전용(예. 자동 미분 등)의 기능을 가지고 있다.\n",
    "\n",
    "- 또한 Tensor의 경우 Tensorflow/Keras, Pytorch, MXNet 등의 Deep Learning Framework 별로 기능적인 특성을 반영한 추가 기능들이 있음.\n",
    "    -   각각 Framework의 선호에 맞게\n",
    "\n",
    "- 최근 Tensorflow는 기존 Numpy가 차지하고 있던 것보다 범용적인 영역으로까지 Tensor 처리 영역을 확충하고 있음.\n",
    "    - tf.images 나 tf.io 등 여러 numpy의 영역으로 ㄱㄱ중."
   ]
  },
  {
   "cell_type": "markdown",
   "metadata": {},
   "source": [
    "- 보통 fit()에 들어가는 train data가 tensor가 아닌 Numpy array가 들어갔었다. \n",
    "- 단 모델, keras에 모델에 들어가는 vector는 전부 tensor에 해당한다. "
   ]
  },
  {
   "cell_type": "markdown",
   "metadata": {},
   "source": [
    "fmnist = Fashion_mnist.load_data() 의 결과 나오는 fmist 자체는 np.array에 해당한다.\n",
    "\n",
    "\n",
    "그런데 create_model()에서,\n",
    "\n",
    "\n",
    "input_tensor = Input(shape=(INPUT_SIZE,INPUT_SIZE))에서는 이 28*28 np.array를 tensor로 바꾸게 된다."
   ]
  },
  {
   "cell_type": "markdown",
   "metadata": {},
   "source": []
  }
 ],
 "metadata": {
  "language_info": {
   "name": "python"
  },
  "orig_nbformat": 4
 },
 "nbformat": 4,
 "nbformat_minor": 2
}
