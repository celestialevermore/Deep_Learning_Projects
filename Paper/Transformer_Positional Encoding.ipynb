{
 "cells": [
  {
   "cell_type": "markdown",
   "metadata": {},
   "source": [
    "#### Transformer의 동작원리 - Positional Encoding"
   ]
  },
  {
   "cell_type": "code",
   "execution_count": 1,
   "metadata": {},
   "outputs": [],
   "source": [
    "import math\n",
    "import matplotlib.pyplot as plt\n",
    "import torch\n",
    "%matplotlib inline"
   ]
  },
  {
   "cell_type": "code",
   "execution_count": 2,
   "metadata": {},
   "outputs": [],
   "source": [
    "n=4 #단어의 개수\n",
    "dim = 8 #임베딩 (embedding)의 차원 \n",
    "\n",
    "def get_angles(pos,i,dim):\n",
    "    angles = 1 / math.pow(10000,(2*(i//2)) / dim )\n",
    "    return pos * angles \n"
   ]
  },
  {
   "cell_type": "code",
   "execution_count": 3,
   "metadata": {},
   "outputs": [],
   "source": [
    "def get_positional_encoding(pos,i,dim):\n",
    "    if i%2==0: #짝수인 경우, 사인함수\n",
    "        return math.sin(get_angles(pos,i,dim))\n",
    "    \n",
    "    return math.cos(get_angles(pos,i,dim))\n"
   ]
  },
  {
   "cell_type": "code",
   "execution_count": 4,
   "metadata": {},
   "outputs": [],
   "source": [
    "result = [[0]*dim for _ in range(n)]\n",
    "\n",
    "for i in range(n):\n",
    "    for j in range(dim):\n",
    "        result[i][j] = get_positional_encoding(i,j,dim)"
   ]
  },
  {
   "cell_type": "code",
   "execution_count": 6,
   "metadata": {},
   "outputs": [],
   "source": [
    "class Transformer(torch.nn.Module):\n",
    "    def __init__(\n",
    "        self, d_model=512,num_heads=8,num_encoders=6,num_decoders=6\n",
    "    ):\n",
    "        super().__init__()\n",
    "        self.encoder = torch.Encoder(d_model,num_heads,num_encoders)\n",
    "        self.decoder = torch.Decoder(d_model,num_heads,num_decoders)\n",
    "\n",
    "    def forward(self,src,tgt,src_mask,tgt_mask):\n",
    "        enc_out = self.encoder(src,src_mask)\n",
    "        dec_out = self.decoder(tgt,enc_out,src_mask,tgt_mask)\n",
    "\n",
    "        return dec_out\n"
   ]
  },
  {
   "cell_type": "code",
   "execution_count": null,
   "metadata": {},
   "outputs": [],
   "source": []
  }
 ],
 "metadata": {
  "interpreter": {
   "hash": "b45cb9130eebfe057782ef3fcf20eb5ae5c81aa7ea2b32ada9dc8e4e9a15b7c6"
  },
  "kernelspec": {
   "display_name": "Python 3.8.8 64-bit ('base': conda)",
   "language": "python",
   "name": "python3"
  },
  "language_info": {
   "codemirror_mode": {
    "name": "ipython",
    "version": 3
   },
   "file_extension": ".py",
   "mimetype": "text/x-python",
   "name": "python",
   "nbconvert_exporter": "python",
   "pygments_lexer": "ipython3",
   "version": "3.8.11"
  },
  "orig_nbformat": 4
 },
 "nbformat": 4,
 "nbformat_minor": 2
}
