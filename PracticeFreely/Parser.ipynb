{
 "cells": [
  {
   "cell_type": "markdown",
   "id": "2a55441b",
   "metadata": {},
   "source": [
    "#### 텍스트 파일을 열어 각 Line 별로 읽어들인 후, 문자열 메소드를 이용하여 Parsing\n",
    "\n",
    "- Pandas DataFrame을 만들자."
   ]
  },
  {
   "cell_type": "code",
   "execution_count": 1,
   "id": "79b5b9ae",
   "metadata": {},
   "outputs": [],
   "source": [
    "import pandas as pd\n",
    "import os"
   ]
  },
  {
   "cell_type": "code",
   "execution_count": 9,
   "id": "9f6e72df",
   "metadata": {},
   "outputs": [],
   "source": [
    "#set file path\n",
    "\n",
    "cwd = os.getcwd()\n",
    "\n",
    "file_path = os.path.join(cwd,'/home/key2317/color_range.txt')\n",
    "#C:\\Users\\user\\Jupyter_project"
   ]
  },
  {
   "cell_type": "code",
   "execution_count": 29,
   "id": "8510ab47",
   "metadata": {},
   "outputs": [],
   "source": [
    "# read 'color_range.txt'file and parsing it by id and value\n",
    "\n",
    "df = pd.DataFrame()"
   ]
  },
  {
   "cell_type": "code",
   "execution_count": 30,
   "id": "ff32ca55",
   "metadata": {},
   "outputs": [
    {
     "data": {
      "text/plain": [
       "<_io.TextIOWrapper name='/home/key2317/color_range.txt' mode='r' encoding='UTF-8'>"
      ]
     },
     "execution_count": 30,
     "metadata": {},
     "output_type": "execute_result"
    }
   ],
   "source": [
    "#open file\n",
    "f = open(file_path)\n",
    "f"
   ]
  },
  {
   "cell_type": "code",
   "execution_count": 34,
   "id": "32ac6891",
   "metadata": {},
   "outputs": [],
   "source": [
    "#parsing text line by line using for loop statement\n",
    "\n",
    "for line in f.readlines():\n",
    "    #proxy=int(0)\n",
    "    #print(line)\n",
    "    #proxy+=1\n",
    "    id_list=[]\n",
    "    color_list=[]\n",
    "    bin_list=[]\n",
    "    \n",
    "    #remove white space\n",
    "    \n",
    "    line = line.strip()\n",
    "    \n",
    "    #delete '\"\"'\n",
    "    line = line.replace('\"','')\n",
    "    \n",
    "    #get ID and Value from a line\n",
    "    id = line[:3]\n",
    "    val = line[4:]\n",
    "    \n",
    "    #make a separator with comma(',')\n",
    "    val = val.replace(' a',',a')\n",
    "    val = val.replace(' b',',b')\n",
    "    \n",
    "    \n",
    "    #split a line using separator'.'\n",
    "    val_split = val.split(sep=',')\n",
    "    \n",
    "    #get a 'ID','COLOR','BIN_END' values and append it to list\n",
    "    for j in range(len(val_split)):\n",
    "        id_list.append(id)\n",
    "        color_list.append(val_split[j][:1])\n",
    "        bin_list.append(val_split[j][2:])\n",
    "    \n",
    "    #make a temp DataFrame, having ID, COLOR, BIN_END values per each line\n",
    "    #note : if a line has only one value(ie. Scalar), then it will erase 'index error'\n",
    "    \n",
    "    df_tmp = pd.DataFrame({'id':id_list,\n",
    "                          'color_cd':color_list,\n",
    "                          'bin_end':bin_list}\n",
    "                         )\n",
    "    \n",
    "    #combine df and df_tmp one by one\n",
    "    color_df = pd.concat([color_df,df_tmp],axis=0, ignore_index=True)\n",
    "    \n",
    "    "
   ]
  },
  {
   "cell_type": "code",
   "execution_count": 35,
   "id": "93a9b8f8",
   "metadata": {},
   "outputs": [
    {
     "data": {
      "text/html": [
       "<div>\n",
       "<style scoped>\n",
       "    .dataframe tbody tr th:only-of-type {\n",
       "        vertical-align: middle;\n",
       "    }\n",
       "\n",
       "    .dataframe tbody tr th {\n",
       "        vertical-align: top;\n",
       "    }\n",
       "\n",
       "    .dataframe thead th {\n",
       "        text-align: right;\n",
       "    }\n",
       "</style>\n",
       "<table border=\"1\" class=\"dataframe\">\n",
       "  <thead>\n",
       "    <tr style=\"text-align: right;\">\n",
       "      <th></th>\n",
       "      <th>id</th>\n",
       "      <th>color_cd</th>\n",
       "      <th>bin_end</th>\n",
       "    </tr>\n",
       "  </thead>\n",
       "  <tbody>\n",
       "    <tr>\n",
       "      <th>0</th>\n",
       "      <td>\"AA</td>\n",
       "      <td></td>\n",
       "      <td></td>\n",
       "    </tr>\n",
       "    <tr>\n",
       "      <th>1</th>\n",
       "      <td>\"AA</td>\n",
       "      <td>a</td>\n",
       "      <td>100</td>\n",
       "    </tr>\n",
       "    <tr>\n",
       "      <th>2</th>\n",
       "      <td>\"AA</td>\n",
       "      <td>b</td>\n",
       "      <td>200</td>\n",
       "    </tr>\n",
       "    <tr>\n",
       "      <th>3</th>\n",
       "      <td>\"AA</td>\n",
       "      <td>a</td>\n",
       "      <td>300</td>\n",
       "    </tr>\n",
       "    <tr>\n",
       "      <th>4</th>\n",
       "      <td>\"AA</td>\n",
       "      <td>b</td>\n",
       "      <td>400\"</td>\n",
       "    </tr>\n",
       "    <tr>\n",
       "      <th>5</th>\n",
       "      <td>\"BB</td>\n",
       "      <td></td>\n",
       "      <td></td>\n",
       "    </tr>\n",
       "    <tr>\n",
       "      <th>6</th>\n",
       "      <td>\"BB</td>\n",
       "      <td>a</td>\n",
       "      <td>250</td>\n",
       "    </tr>\n",
       "    <tr>\n",
       "      <th>7</th>\n",
       "      <td>\"BB</td>\n",
       "      <td>b</td>\n",
       "      <td>350</td>\n",
       "    </tr>\n",
       "    <tr>\n",
       "      <th>8</th>\n",
       "      <td>\"BB</td>\n",
       "      <td>a</td>\n",
       "      <td>450</td>\n",
       "    </tr>\n",
       "    <tr>\n",
       "      <th>9</th>\n",
       "      <td>\"BB</td>\n",
       "      <td>b</td>\n",
       "      <td>550</td>\n",
       "    </tr>\n",
       "    <tr>\n",
       "      <th>10</th>\n",
       "      <td>\"BB</td>\n",
       "      <td>a</td>\n",
       "      <td>650</td>\n",
       "    </tr>\n",
       "    <tr>\n",
       "      <th>11</th>\n",
       "      <td>\"BB</td>\n",
       "      <td>b</td>\n",
       "      <td>750</td>\n",
       "    </tr>\n",
       "    <tr>\n",
       "      <th>12</th>\n",
       "      <td>\"BB</td>\n",
       "      <td>a</td>\n",
       "      <td>800</td>\n",
       "    </tr>\n",
       "    <tr>\n",
       "      <th>13</th>\n",
       "      <td>\"BB</td>\n",
       "      <td>b</td>\n",
       "      <td>910\"</td>\n",
       "    </tr>\n",
       "  </tbody>\n",
       "</table>\n",
       "</div>"
      ],
      "text/plain": [
       "     id color_cd bin_end\n",
       "0   \"AA                 \n",
       "1   \"AA        a     100\n",
       "2   \"AA        b     200\n",
       "3   \"AA        a     300\n",
       "4   \"AA        b    400\"\n",
       "5   \"BB                 \n",
       "6   \"BB        a     250\n",
       "7   \"BB        b     350\n",
       "8   \"BB        a     450\n",
       "9   \"BB        b     550\n",
       "10  \"BB        a     650\n",
       "11  \"BB        b     750\n",
       "12  \"BB        a     800\n",
       "13  \"BB        b    910\""
      ]
     },
     "execution_count": 35,
     "metadata": {},
     "output_type": "execute_result"
    }
   ],
   "source": [
    "color_df"
   ]
  },
  {
   "cell_type": "code",
   "execution_count": 2,
   "id": "5dd0f377",
   "metadata": {},
   "outputs": [
    {
     "data": {
      "text/html": [
       "<div>\n",
       "<style scoped>\n",
       "    .dataframe tbody tr th:only-of-type {\n",
       "        vertical-align: middle;\n",
       "    }\n",
       "\n",
       "    .dataframe tbody tr th {\n",
       "        vertical-align: top;\n",
       "    }\n",
       "\n",
       "    .dataframe thead th {\n",
       "        text-align: right;\n",
       "    }\n",
       "</style>\n",
       "<table border=\"1\" class=\"dataframe\">\n",
       "  <thead>\n",
       "    <tr style=\"text-align: right;\">\n",
       "      <th></th>\n",
       "    </tr>\n",
       "  </thead>\n",
       "  <tbody>\n",
       "  </tbody>\n",
       "</table>\n",
       "</div>"
      ],
      "text/plain": [
       "Empty DataFrame\n",
       "Columns: []\n",
       "Index: []"
      ]
     },
     "execution_count": 2,
     "metadata": {},
     "output_type": "execute_result"
    }
   ],
   "source": [
    "import pandas as pd\n",
    "\n",
    "a = pd.DataFrame()\n",
    "a"
   ]
  },
  {
   "cell_type": "code",
   "execution_count": 3,
   "metadata": {},
   "outputs": [
    {
     "name": "stderr",
     "output_type": "stream",
     "text": [
      "2021-10-17 18:06:41.664309: W tensorflow/stream_executor/platform/default/dso_loader.cc:64] Could not load dynamic library 'libcudart.so.11.0'; dlerror: libcudart.so.11.0: cannot open shared object file: No such file or directory\n",
      "2021-10-17 18:06:41.664348: I tensorflow/stream_executor/cuda/cudart_stub.cc:29] Ignore above cudart dlerror if you do not have a GPU set up on your machine.\n"
     ]
    }
   ],
   "source": [
    "import tensorflow as tf\n",
    "\n",
    "from tensorflow import keras"
   ]
  },
  {
   "cell_type": "code",
   "execution_count": null,
   "metadata": {},
   "outputs": [],
   "source": []
  }
 ],
 "metadata": {
  "interpreter": {
   "hash": "b45cb9130eebfe057782ef3fcf20eb5ae5c81aa7ea2b32ada9dc8e4e9a15b7c6"
  },
  "kernelspec": {
   "display_name": "Python 3.8.8 64-bit ('base': conda)",
   "name": "python3"
  },
  "language_info": {
   "codemirror_mode": {
    "name": "ipython",
    "version": 3
   },
   "file_extension": ".py",
   "mimetype": "text/x-python",
   "name": "python",
   "nbconvert_exporter": "python",
   "pygments_lexer": "ipython3",
   "version": "3.8.8"
  }
 },
 "nbformat": 4,
 "nbformat_minor": 5
}
