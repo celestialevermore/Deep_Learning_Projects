{
 "cells": [
  {
   "cell_type": "markdown",
   "metadata": {},
   "source": [
    "### Functionalizing\n",
    "\n",
    "- Funtional API로 모델 만들기\n",
    "- pixel값 1 ~ 255를 0 ~ 1 사이 값 Float32로 만들기\n",
    "- One Hot Encoding Label에 적용하기\n",
    "- 학습과 검증 데이터로 나누기\n",
    "- compile, 학습/예측/평가"
   ]
  },
  {
   "cell_type": "code",
   "execution_count": 1,
   "metadata": {},
   "outputs": [],
   "source": [
    "import os \n",
    "os.environ[\"CUDA_DEVICE_ORDER\"]=\"PCI_BUS_ID\"\n",
    "os.environ[\"CUDA_VISIBLE_DEVICES\"]=\"6\""
   ]
  },
  {
   "cell_type": "code",
   "execution_count": 2,
   "metadata": {},
   "outputs": [
    {
     "name": "stderr",
     "output_type": "stream",
     "text": [
      "2021-11-15 23:28:59.533121: W tensorflow/stream_executor/platform/default/dso_loader.cc:64] Could not load dynamic library 'libcudart.so.11.0'; dlerror: libcudart.so.11.0: cannot open shared object file: No such file or directory\n",
      "2021-11-15 23:28:59.533153: I tensorflow/stream_executor/cuda/cudart_stub.cc:29] Ignore above cudart dlerror if you do not have a GPU set up on your machine.\n"
     ]
    }
   ],
   "source": [
    "import numpy as np\n",
    "from tensorflow.keras.utils import to_categorical \n",
    "from sklearn.model_selection import train_test_split\n",
    "\n",
    "from tensorflow.keras.layers import Layer, Input,Dense,Flatten \n",
    "from tensorflow.keras.models import Model \n",
    "import tensorflow as tf\n",
    "\n"
   ]
  },
  {
   "cell_type": "code",
   "execution_count": 3,
   "metadata": {},
   "outputs": [
    {
     "name": "stdout",
     "output_type": "stream",
     "text": [
      "Model: \"model\"\n",
      "_________________________________________________________________\n",
      "Layer (type)                 Output Shape              Param #   \n",
      "=================================================================\n",
      "input_1 (InputLayer)         [(None, 28, 28)]          0         \n",
      "_________________________________________________________________\n",
      "flatten (Flatten)            (None, 784)               0         \n",
      "_________________________________________________________________\n",
      "dense (Dense)                (None, 100)               78500     \n",
      "_________________________________________________________________\n",
      "dense_1 (Dense)              (None, 30)                3030      \n",
      "_________________________________________________________________\n",
      "dense_2 (Dense)              (None, 10)                310       \n",
      "=================================================================\n",
      "Total params: 81,840\n",
      "Trainable params: 81,840\n",
      "Non-trainable params: 0\n",
      "_________________________________________________________________\n"
     ]
    },
    {
     "name": "stderr",
     "output_type": "stream",
     "text": [
      "2021-11-15 23:29:00.798996: W tensorflow/stream_executor/platform/default/dso_loader.cc:64] Could not load dynamic library 'libcudart.so.11.0'; dlerror: libcudart.so.11.0: cannot open shared object file: No such file or directory\n",
      "2021-11-15 23:29:00.799044: W tensorflow/stream_executor/platform/default/dso_loader.cc:64] Could not load dynamic library 'libcublas.so.11'; dlerror: libcublas.so.11: cannot open shared object file: No such file or directory\n",
      "2021-11-15 23:29:00.799082: W tensorflow/stream_executor/platform/default/dso_loader.cc:64] Could not load dynamic library 'libcublasLt.so.11'; dlerror: libcublasLt.so.11: cannot open shared object file: No such file or directory\n",
      "2021-11-15 23:29:00.800693: W tensorflow/stream_executor/platform/default/dso_loader.cc:64] Could not load dynamic library 'libcusolver.so.11'; dlerror: libcusolver.so.11: cannot open shared object file: No such file or directory\n",
      "2021-11-15 23:29:00.800731: W tensorflow/stream_executor/platform/default/dso_loader.cc:64] Could not load dynamic library 'libcusparse.so.11'; dlerror: libcusparse.so.11: cannot open shared object file: No such file or directory\n",
      "2021-11-15 23:29:00.800760: W tensorflow/stream_executor/platform/default/dso_loader.cc:64] Could not load dynamic library 'libcudnn.so.8'; dlerror: libcudnn.so.8: cannot open shared object file: No such file or directory\n",
      "2021-11-15 23:29:00.800768: W tensorflow/core/common_runtime/gpu/gpu_device.cc:1835] Cannot dlopen some GPU libraries. Please make sure the missing libraries mentioned above are installed properly if you would like to use GPU. Follow the guide at https://www.tensorflow.org/install/gpu for how to download and setup the required libraries for your platform.\n",
      "Skipping registering GPU devices...\n",
      "2021-11-15 23:29:00.800944: I tensorflow/core/platform/cpu_feature_guard.cc:142] This TensorFlow binary is optimized with oneAPI Deep Neural Network Library (oneDNN) to use the following CPU instructions in performance-critical operations:  AVX2 AVX512F FMA\n",
      "To enable them in other operations, rebuild TensorFlow with the appropriate compiler flags.\n"
     ]
    }
   ],
   "source": [
    "INPUT_SIZE=28\n",
    "def create_model():\n",
    "    \n",
    "    input_tensor=Input(shape=(INPUT_SIZE,INPUT_SIZE))\n",
    "    x = Flatten()(input_tensor)\n",
    "    x = Dense(100, activation='relu')(x)\n",
    "    x = Dense(30,activation='relu')(x)\n",
    "    output = Dense(10,activation='softmax')(x)\n",
    "\n",
    "    model = Model(inputs=input_tensor,outputs = output)\n",
    "\n",
    "    return model\n",
    "\n",
    "model = create_model()\n",
    "model.summary()"
   ]
  },
  {
   "cell_type": "code",
   "execution_count": 4,
   "metadata": {},
   "outputs": [],
   "source": [
    "# 0 ~ 1사이값의 float32로 변경하는 함수\n",
    "\n",
    "def get_preprocessed_data(images,labels):\n",
    "    images = np.array(images/255.0,dtype=np.float32)\n",
    "    labels = np.array(labels,dtype = np.float32)\n",
    "\n",
    "    return images,labels\n",
    "\n",
    "\n",
    "# 0 ~ 1사이값 float32로 변경하는 함수 호출 한 뒤 OHE 적용\n",
    "\n",
    "def get_preprocessed_ohe(images,labels):\n",
    "    images,labels=get_preprocessed_data(images,labels)\n",
    "\n",
    "    oh_labels = to_categorical(labels)\n",
    "\n",
    "    return images,oh_labels\n",
    "\n",
    "\n",
    "# 학습/검증/테스트 데이터 세트에 전처리 및 OHE 적용한 뒤 반환 \n",
    "\n",
    "def get_train_valid_test_set(train_images,train_labels,test_images,test_labels,valid_size=0.15,random_state=2021):\n",
    "    \n",
    "    train_images,train_oh_labels = get_preprocessed_ohe(train_images,train_labels)\n",
    "    test_images,test_oh_labels = get_preprocessed_ohe(test_images,test_labels)\n",
    "\n",
    "    #검증 데이터\n",
    "    tr_images,val_images,tr_oh_labels,val_oh_labels = train_test_split(train_images,train_oh_labels,test_size=valid_size,random_state=random_state)\n",
    "\n",
    "    return (tr_images,tr_oh_labels),(val_images,val_oh_labels),(test_images,test_oh_labels)\n",
    "    \n",
    "\n"
   ]
  },
  {
   "cell_type": "markdown",
   "metadata": {},
   "source": [
    "#### Fashion MNIST 데이터 재로딩 및 전처리 적용하여 학습/검증/데이터 셋 생성"
   ]
  },
  {
   "cell_type": "code",
   "execution_count": 5,
   "metadata": {},
   "outputs": [
    {
     "name": "stdout",
     "output_type": "stream",
     "text": [
      "(60000, 28, 28) (60000,) (10000, 28, 28) (10000,)\n"
     ]
    }
   ],
   "source": [
    "from tensorflow.keras.datasets import fashion_mnist\n",
    "\n",
    "(train_images,train_labels),(test_images,test_labels) = fashion_mnist.load_data()\n",
    "\n",
    "print(train_images.shape,train_labels.shape,test_images.shape,test_labels.shape)"
   ]
  },
  {
   "cell_type": "code",
   "execution_count": 6,
   "metadata": {},
   "outputs": [],
   "source": [
    "(tr_images,tr_oh_labels),(val_images,val_oh_labels),(test_images,test_oh_labels)= get_train_valid_test_set(train_images,train_labels,test_images,test_labels,valid_size=0.15,random_state=2021)"
   ]
  },
  {
   "cell_type": "code",
   "execution_count": 7,
   "metadata": {},
   "outputs": [
    {
     "name": "stdout",
     "output_type": "stream",
     "text": [
      "(51000, 28, 28) (51000, 10) (9000, 28, 28) (9000, 10) (10000, 28, 28) (10000,)\n"
     ]
    }
   ],
   "source": [
    "print(tr_images.shape,tr_oh_labels.shape,val_images.shape,val_oh_labels.shape,test_images.shape,test_labels.shape)"
   ]
  },
  {
   "cell_type": "code",
   "execution_count": 8,
   "metadata": {},
   "outputs": [
    {
     "name": "stdout",
     "output_type": "stream",
     "text": [
      "Model: \"model_1\"\n",
      "_________________________________________________________________\n",
      "Layer (type)                 Output Shape              Param #   \n",
      "=================================================================\n",
      "input_2 (InputLayer)         [(None, 28, 28)]          0         \n",
      "_________________________________________________________________\n",
      "flatten_1 (Flatten)          (None, 784)               0         \n",
      "_________________________________________________________________\n",
      "dense_3 (Dense)              (None, 100)               78500     \n",
      "_________________________________________________________________\n",
      "dense_4 (Dense)              (None, 30)                3030      \n",
      "_________________________________________________________________\n",
      "dense_5 (Dense)              (None, 10)                310       \n",
      "=================================================================\n",
      "Total params: 81,840\n",
      "Trainable params: 81,840\n",
      "Non-trainable params: 0\n",
      "_________________________________________________________________\n"
     ]
    }
   ],
   "source": [
    "from tensorflow.keras.optimizers import Adam \n",
    "\n",
    "#Model 생성 및 optimizer, loss, metric 적용\n",
    "model = create_model()\n",
    "model.summary()\n",
    "\n",
    "\n",
    "model.compile(optimizer=Adam(0.001),loss='categorical_crossentropy',metrics=['accuracy'] )\n"
   ]
  },
  {
   "cell_type": "code",
   "execution_count": 9,
   "metadata": {},
   "outputs": [
    {
     "name": "stderr",
     "output_type": "stream",
     "text": [
      "2021-11-15 23:29:02.201343: I tensorflow/compiler/mlir/mlir_graph_optimization_pass.cc:185] None of the MLIR Optimization Passes are enabled (registered 2)\n"
     ]
    },
    {
     "name": "stdout",
     "output_type": "stream",
     "text": [
      "Epoch 1/20\n",
      "399/399 [==============================] - 2s 4ms/step - loss: 0.6061 - accuracy: 0.7948 - val_loss: 0.4626 - val_accuracy: 0.8323\n",
      "Epoch 2/20\n",
      "399/399 [==============================] - 1s 3ms/step - loss: 0.4127 - accuracy: 0.8544 - val_loss: 0.4019 - val_accuracy: 0.8588\n",
      "Epoch 3/20\n",
      "399/399 [==============================] - 1s 3ms/step - loss: 0.3730 - accuracy: 0.8685 - val_loss: 0.4105 - val_accuracy: 0.8526\n",
      "Epoch 4/20\n",
      "399/399 [==============================] - 1s 3ms/step - loss: 0.3465 - accuracy: 0.8764 - val_loss: 0.3879 - val_accuracy: 0.8590\n",
      "Epoch 5/20\n",
      "399/399 [==============================] - 1s 3ms/step - loss: 0.3315 - accuracy: 0.8815 - val_loss: 0.3468 - val_accuracy: 0.8764\n",
      "Epoch 6/20\n",
      "399/399 [==============================] - 1s 4ms/step - loss: 0.3108 - accuracy: 0.8877 - val_loss: 0.3449 - val_accuracy: 0.8764\n",
      "Epoch 7/20\n",
      "399/399 [==============================] - 1s 3ms/step - loss: 0.3071 - accuracy: 0.8881 - val_loss: 0.3249 - val_accuracy: 0.8847\n",
      "Epoch 8/20\n",
      "399/399 [==============================] - 1s 3ms/step - loss: 0.2897 - accuracy: 0.8939 - val_loss: 0.3320 - val_accuracy: 0.8828\n",
      "Epoch 9/20\n",
      "399/399 [==============================] - 1s 3ms/step - loss: 0.2777 - accuracy: 0.8979 - val_loss: 0.3349 - val_accuracy: 0.8786\n",
      "Epoch 10/20\n",
      "399/399 [==============================] - 1s 3ms/step - loss: 0.2697 - accuracy: 0.9012 - val_loss: 0.3213 - val_accuracy: 0.8836\n",
      "Epoch 11/20\n",
      "399/399 [==============================] - 1s 3ms/step - loss: 0.2608 - accuracy: 0.9037 - val_loss: 0.3241 - val_accuracy: 0.8831\n",
      "Epoch 12/20\n",
      "399/399 [==============================] - 1s 3ms/step - loss: 0.2519 - accuracy: 0.9082 - val_loss: 0.3266 - val_accuracy: 0.8828\n",
      "Epoch 13/20\n",
      "399/399 [==============================] - 1s 3ms/step - loss: 0.2461 - accuracy: 0.9083 - val_loss: 0.3167 - val_accuracy: 0.8860\n",
      "Epoch 14/20\n",
      "399/399 [==============================] - 1s 3ms/step - loss: 0.2366 - accuracy: 0.9130 - val_loss: 0.3318 - val_accuracy: 0.8817\n",
      "Epoch 15/20\n",
      "399/399 [==============================] - 1s 3ms/step - loss: 0.2355 - accuracy: 0.9108 - val_loss: 0.3257 - val_accuracy: 0.8830\n",
      "Epoch 16/20\n",
      "399/399 [==============================] - 1s 3ms/step - loss: 0.2278 - accuracy: 0.9145 - val_loss: 0.3161 - val_accuracy: 0.8887\n",
      "Epoch 17/20\n",
      "399/399 [==============================] - 1s 4ms/step - loss: 0.2234 - accuracy: 0.9173 - val_loss: 0.3192 - val_accuracy: 0.8861\n",
      "Epoch 18/20\n",
      "399/399 [==============================] - 1s 3ms/step - loss: 0.2151 - accuracy: 0.9206 - val_loss: 0.3201 - val_accuracy: 0.8911\n",
      "Epoch 19/20\n",
      "399/399 [==============================] - 1s 3ms/step - loss: 0.2118 - accuracy: 0.9220 - val_loss: 0.3540 - val_accuracy: 0.8774\n",
      "Epoch 20/20\n",
      "399/399 [==============================] - 1s 3ms/step - loss: 0.2076 - accuracy: 0.9231 - val_loss: 0.3168 - val_accuracy: 0.8881\n"
     ]
    }
   ],
   "source": [
    "#학습 수행\n",
    "\n",
    "history = model.fit(x=tr_images,y=tr_oh_labels,batch_size=128,epochs=20,validation_data=(val_images,val_oh_labels))"
   ]
  },
  {
   "cell_type": "code",
   "execution_count": 10,
   "metadata": {},
   "outputs": [
    {
     "data": {
      "image/png": "[encoded data removed]",
      "text/plain": [
       "<Figure size 432x288 with 1 Axes>"
      ]
     },
     "metadata": {
      "needs_background": "light"
     },
     "output_type": "display_data"
    }
   ],
   "source": [
    "import matplotlib.pyplot as plt\n",
    "%matplotlib inline \n",
    "\n",
    "def show_history(history): \n",
    "    plt.plot(history.history['accuracy'],label = 'train')\n",
    "    plt.plot(history.history['val_accuracy'],label='valid')\n",
    "    plt.legend()\n",
    "\n",
    "show_history(history)"
   ]
  },
  {
   "cell_type": "code",
   "execution_count": 11,
   "metadata": {},
   "outputs": [
    {
     "name": "stdout",
     "output_type": "stream",
     "text": [
      "40/40 [==============================] - 0s 2ms/step - loss: 0.3411 - accuracy: 0.8825\n"
     ]
    },
    {
     "data": {
      "text/plain": [
       "[0.3411473035812378, 0.8824999928474426]"
      ]
     },
     "execution_count": 11,
     "metadata": {},
     "output_type": "execute_result"
    }
   ],
   "source": [
    "model.evaluate(test_images,test_oh_labels,batch_size=256,verbose=1)"
   ]
  },
  {
   "cell_type": "code",
   "execution_count": null,
   "metadata": {},
   "outputs": [],
   "source": []
  }
 ],
 "metadata": {
  "interpreter": {
   "hash": "b45cb9130eebfe057782ef3fcf20eb5ae5c81aa7ea2b32ada9dc8e4e9a15b7c6"
  },
  "kernelspec": {
   "display_name": "Python 3.8.8 64-bit ('base': conda)",
   "language": "python",
   "name": "python3"
  },
  "language_info": {
   "codemirror_mode": {
    "name": "ipython",
    "version": 3
   },
   "file_extension": ".py",
   "mimetype": "text/x-python",
   "name": "python",
   "nbconvert_exporter": "python",
   "pygments_lexer": "ipython3",
   "version": "3.8.8"
  },
  "orig_nbformat": 4
 },
 "nbformat": 4,
 "nbformat_minor": 2
}
